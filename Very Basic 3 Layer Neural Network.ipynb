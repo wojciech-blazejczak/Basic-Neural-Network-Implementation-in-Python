{
 "cells": [
  {
   "cell_type": "markdown",
   "metadata": {},
   "source": [
    "# Very basic 3 layer neural network"
   ]
  },
  {
   "cell_type": "markdown",
   "metadata": {},
   "source": [
    "In this note book we are going to write simple neural network in python.\n",
    "Let's begin with intruducing dataset we are going to work with.\n",
    "\n",
    "| X1   | X2   |  X3  |  Y   |\n",
    "|------|------|------|------|\n",
    "| 0    | 0    |  1   |  0   |\n",
    "| 0    | 1    |  1   |  1   |\n",
    "| 1    | 0    |  1   |  1   |\n",
    "| 1    | 1    |  1   |  0   |\n",
    "\n",
    "Here the target is Y column and the input is left side of the table marked as X. "
   ]
  },
  {
   "cell_type": "code",
   "execution_count": 77,
   "metadata": {},
   "outputs": [],
   "source": [
    "import numpy as np"
   ]
  },
  {
   "cell_type": "code",
   "execution_count": 78,
   "metadata": {},
   "outputs": [],
   "source": [
    "#input matrix\n",
    "X = np.array([[0,0,1],[0,1,1],[1,0,1],[1,1,1]])\n",
    "#desired output\n",
    "y = np.array([[0,1,1,0]]).T"
   ]
  },
  {
   "cell_type": "code",
   "execution_count": 79,
   "metadata": {},
   "outputs": [],
   "source": [
    "np.random.seed(1)"
   ]
  },
  {
   "cell_type": "markdown",
   "metadata": {},
   "source": [
    "### Wieights initialization"
   ]
  },
  {
   "cell_type": "code",
   "execution_count": 80,
   "metadata": {},
   "outputs": [
    {
     "name": "stdout",
     "output_type": "stream",
     "text": [
      "[[4.17022005e-01 7.20324493e-01 1.14374817e-04 3.02332573e-01]\n",
      " [1.46755891e-01 9.23385948e-02 1.86260211e-01 3.45560727e-01]\n",
      " [3.96767474e-01 5.38816734e-01 4.19194514e-01 6.85219500e-01]] [[0.20445225]\n",
      " [0.87811744]\n",
      " [0.02738759]\n",
      " [0.67046751]]\n"
     ]
    }
   ],
   "source": [
    "#initialize random weights in first and hidden layer\n",
    "w01 = np.random.random((3,4))\n",
    "w12 = np.random.random((4,1))\n",
    "print(w01, w12)"
   ]
  },
  {
   "cell_type": "markdown",
   "metadata": {},
   "source": [
    "### Activation function\n",
    "To activate layers we are going to use sigmoid function which returns a value between 0 and 1 for any given argument."
   ]
  },
  {
   "cell_type": "code",
   "execution_count": 81,
   "metadata": {},
   "outputs": [],
   "source": [
    "def sigmoid(x, deriv = False):\n",
    "    if deriv == True:\n",
    "        return x*(1-x)\n",
    "    return 1/(1+np.exp(-x))"
   ]
  },
  {
   "cell_type": "markdown",
   "metadata": {},
   "source": [
    "Here is sigmoid function in action:"
   ]
  },
  {
   "cell_type": "code",
   "execution_count": 82,
   "metadata": {},
   "outputs": [
    {
     "data": {
      "text/plain": [
       "Text(0.5, 1.0, 'Plot of sigmoid function')"
      ]
     },
     "execution_count": 82,
     "metadata": {},
     "output_type": "execute_result"
    },
    {
     "data": {
      "image/png": "[encoded data removed]",
      "text/plain": [
       "<Figure size 432x288 with 1 Axes>"
      ]
     },
     "metadata": {
      "needs_background": "light"
     },
     "output_type": "display_data"
    }
   ],
   "source": [
    "import matplotlib.pyplot as plt\n",
    "import random\n",
    "arr_x = [x/10 for x in range(-50, 50)]\n",
    "arr_y = [sigmoid(x) for x in arr_x]\n",
    "plt.plot(arr_x, arr_y)\n",
    "plt.title(\"Plot of sigmoid function\")"
   ]
  },
  {
   "cell_type": "markdown",
   "metadata": {},
   "source": [
    "### Forward propagation\n",
    "To keep the code little cleaner I've decided to form additional function for forward propagation. It will also be useful to actually predict once the net is trained. "
   ]
  },
  {
   "cell_type": "code",
   "execution_count": 83,
   "metadata": {},
   "outputs": [],
   "source": [
    "def feed_forward(X, w01, w12):\n",
    "    l0 = X\n",
    "    l1 = sigmoid(np.dot(l0,w01))\n",
    "    l2 = sigmoid(np.dot(l1, w12))\n",
    "    return l1, l2"
   ]
  },
  {
   "cell_type": "markdown",
   "metadata": {},
   "source": [
    "### Training neural net"
   ]
  },
  {
   "cell_type": "code",
   "execution_count": 90,
   "metadata": {
    "scrolled": false
   },
   "outputs": [
    {
     "name": "stdout",
     "output_type": "stream",
     "text": [
      "error:  0.0017230562764431467\n",
      "error:  0.008121494406636263\n",
      "error:  0.005185882965173158\n",
      "error:  0.004091218664805347\n",
      "error:  0.003472919363178892\n",
      "error:  0.0030618572824205985\n",
      "error:  0.0027631905959754257\n",
      "error:  0.002533623433310858\n",
      "error:  0.0023501493750479902\n",
      "error:  0.0021992438258285063\n"
     ]
    }
   ],
   "source": [
    "import math\n",
    "EPOCHS = 10000\n",
    "err = []\n",
    "for it in range(EPOCHS):\n",
    "    #feed forward\n",
    "    l1, l2 = feed_forward(X, w01, w12)\n",
    "    \n",
    "    ####backpropagation###\n",
    "    #error l2\n",
    "    l2_error = y - l2\n",
    "    \n",
    "    err.append(math.fabs(np.mean(l2_error)))\n",
    "    if (it%1000) == 0:\n",
    "        print('error: ', err[it])\n",
    "                \n",
    "    #error scaled by confidance\n",
    "    l2_delta = l2_error * sigmoid(l2, deriv = True)\n",
    "    \n",
    "    #contribution in l2 error \n",
    "    l1_error = l2_delta.dot(w12.T)\n",
    "    \n",
    "    '''\n",
    "    l2 can be seen as output of l1 hence we can compute l1_error like this  \n",
    "    '''\n",
    "    l1_delta = l1_error * sigmoid(l1, deriv = True)\n",
    "    \n",
    "    w01 += np.dot(l0.T, l1_delta)\n",
    "    w12 += np.dot(l1.T, l2_delta)\n",
    "    "
   ]
  },
  {
   "cell_type": "markdown",
   "metadata": {},
   "source": [
    "### Learning plot"
   ]
  },
  {
   "cell_type": "code",
   "execution_count": 91,
   "metadata": {},
   "outputs": [
    {
     "data": {
      "text/plain": [
       "[<matplotlib.lines.Line2D at 0x1e8241f8ba8>]"
      ]
     },
     "execution_count": 91,
     "metadata": {},
     "output_type": "execute_result"
    },
    {
     "data": {
      "image/png": "[encoded data removed]",
      "text/plain": [
       "<Figure size 432x288 with 1 Axes>"
      ]
     },
     "metadata": {
      "needs_background": "light"
     },
     "output_type": "display_data"
    }
   ],
   "source": [
    "plt.plot(range(EPOCHS)[:10], err[:10])"
   ]
  },
  {
   "cell_type": "markdown",
   "metadata": {},
   "source": [
    "### Results"
   ]
  },
  {
   "cell_type": "code",
   "execution_count": 92,
   "metadata": {},
   "outputs": [
    {
     "name": "stdout",
     "output_type": "stream",
     "text": [
      "[[0.00410928]\n",
      " [0.98532125]\n",
      " [0.98526649]\n",
      " [0.01701354]]\n"
     ]
    }
   ],
   "source": [
    "l1, l2 =feed_forward(X, w01, w12)\n",
    "print(l2)"
   ]
  },
  {
   "cell_type": "markdown",
   "metadata": {},
   "source": [
    "As we can see results are highly satisfying and true about our target Y. "
   ]
  }
 ],
 "metadata": {
  "kernelspec": {
   "display_name": "Python 3",
   "language": "python",
   "name": "python3"
  },
  "language_info": {
   "codemirror_mode": {
    "name": "ipython",
    "version": 3
   },
   "file_extension": ".py",
   "mimetype": "text/x-python",
   "name": "python",
   "nbconvert_exporter": "python",
   "pygments_lexer": "ipython3",
   "version": "3.6.7"
  }
 },
 "nbformat": 4,
 "nbformat_minor": 2
}
