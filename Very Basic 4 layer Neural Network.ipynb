{
 "cells": [
  {
   "cell_type": "markdown",
   "metadata": {},
   "source": [
    "# Very basic 4 layer neural network\n",
    "In this note book we are going to write simple 4 layer neural network in python.\n",
    "Let's begin with intruducing dataset we are going to work with.\n",
    "\n",
    "| X1   | X2   |  X3  |  Y   |\n",
    "|------|------|------|------|\n",
    "| 0    | 0    |  1   |  0   |\n",
    "| 0    | 1    |  1   |  1   |\n",
    "| 1    | 0    |  1   |  1   |\n",
    "| 1    | 1    |  1   |  0   |\n",
    "\n",
    "Here the target is Y column and the input is left side of the table marked as X. "
   ]
  },
  {
   "cell_type": "code",
   "execution_count": 21,
   "metadata": {},
   "outputs": [],
   "source": [
    "import math\n",
    "import numpy as np"
   ]
  },
  {
   "cell_type": "code",
   "execution_count": 29,
   "metadata": {},
   "outputs": [
    {
     "name": "stdout",
     "output_type": "stream",
     "text": [
      "[[0 0 1]\n",
      " [0 1 1]\n",
      " [1 0 1]\n",
      " [1 1 1]] [[0]\n",
      " [1]\n",
      " [1]\n",
      " [0]]\n"
     ]
    }
   ],
   "source": [
    "X = np.array([[0,0,1],[0,1,1],[1,0,1],[1,1,1]])\n",
    "y = np.array([[0,1,1,0]]).T\n",
    "print(X, y)"
   ]
  },
  {
   "cell_type": "markdown",
   "metadata": {},
   "source": [
    "### Activation function\n",
    "To activate layers we are going to use sigmoid function which returns a value between 0 and 1 for any given argument. It is especially proper function to use when dealing with probability."
   ]
  },
  {
   "cell_type": "code",
   "execution_count": 30,
   "metadata": {},
   "outputs": [],
   "source": [
    "def sigmoid(x, deriv = False):\n",
    "    if deriv:\n",
    "        return x*(1-x)\n",
    "    return 1/(1+np.exp(-x))"
   ]
  },
  {
   "cell_type": "markdown",
   "metadata": {},
   "source": [
    "### Weights initialization"
   ]
  },
  {
   "cell_type": "code",
   "execution_count": 31,
   "metadata": {},
   "outputs": [],
   "source": [
    "#initialize weights\n",
    "w01 = np.random.random((3,4))\n",
    "w12 = np.random.random((4,4))\n",
    "w23 = np.random.random((4,1))\n",
    "#print(w01, w12, w23)"
   ]
  },
  {
   "cell_type": "markdown",
   "metadata": {},
   "source": [
    "### Training loop"
   ]
  },
  {
   "cell_type": "code",
   "execution_count": 32,
   "metadata": {},
   "outputs": [
    {
     "name": "stdout",
     "output_type": "stream",
     "text": [
      "-0.37655850225998655\n",
      "-0.0019383714848948963\n",
      "0.0007531835031685374\n",
      "0.0003511309609560316\n",
      "0.0002576881453409414\n",
      "0.00021250140454938827\n",
      "0.00018486261959130843\n",
      "0.0001658097051347486\n",
      "0.00015168315548865028\n",
      "0.00014068229198624252\n"
     ]
    }
   ],
   "source": [
    "EPOCHS = 10000\n",
    "err = []\n",
    "#training loop\n",
    "l0 = X #input\n",
    "for iteration in range(EPOCHS):\n",
    "    '''feed forward'''\n",
    "    #l1 activation\n",
    "    l1 = sigmoid(np.dot(l0, w01)) #4x4\n",
    "    #l2 activation\n",
    "    l2 = sigmoid(np.dot(l1, w12)) #4x4\n",
    "    #l3 acivation\n",
    "    l3 = sigmoid(np.dot(l2, w23)) #4x1\n",
    "    \n",
    "    '''back propagation'''\n",
    "    l3_error = y -l3\n",
    "    \n",
    "    err.append(math.fabs(np.mean(l3_error)))\n",
    "    if iteration%1000== 0:\n",
    "        print(np.mean(l3_error))\n",
    "        \n",
    "    #convinced l3 error\n",
    "    l3_delta = l3_error*sigmoid(l3, deriv = True)\n",
    "    \n",
    "    #l2 error\n",
    "    l2_error = l3_delta.dot(w23.T) #(4x1)(1x4) = 4x4\n",
    "    #convinced l2 error\n",
    "    l2_delta  = l2_error*sigmoid(l2, deriv = True)#(4x4)\n",
    "    \n",
    "    #l1 error\n",
    "    l1_error = l2_delta.dot(w12) #(4x4)\n",
    "    #convinced l1 error\n",
    "    l1_delta = l1_error *sigmoid(l1, deriv = True) #(4x4)\n",
    "    \n",
    "    w23 += l2.T.dot(l3_delta) #4x1+= 4x4 dot 4x1\n",
    "    w12 += l1.T.dot(l2_delta) #4x4+= 4x4 dot 4x4\n",
    "    w01 += l0.T.dot(l1_delta) #3x4 += 3x4 dot 4x4\n",
    "    "
   ]
  },
  {
   "cell_type": "markdown",
   "metadata": {},
   "source": [
    "### Learning plot and final results"
   ]
  },
  {
   "cell_type": "code",
   "execution_count": 33,
   "metadata": {},
   "outputs": [
    {
     "data": {
      "text/plain": [
       "Text(0.5, 1.0, 'learning plot')"
      ]
     },
     "execution_count": 33,
     "metadata": {},
     "output_type": "execute_result"
    },
    {
     "data": {
      "image/png": "[encoded data removed]",
      "text/plain": [
       "<Figure size 432x288 with 1 Axes>"
      ]
     },
     "metadata": {
      "needs_background": "light"
     },
     "output_type": "display_data"
    }
   ],
   "source": [
    "import matplotlib.pyplot as plt\n",
    "plt.plot(range(len(err)), err)\n",
    "plt.xlabel('epochs')\n",
    "plt.ylabel('cost')\n",
    "plt.title('learning plot')"
   ]
  },
  {
   "cell_type": "code",
   "execution_count": 34,
   "metadata": {},
   "outputs": [
    {
     "data": {
      "text/plain": [
       "array([[0.00468028],\n",
       "       [0.99370757],\n",
       "       [0.99300107],\n",
       "       [0.00808382]])"
      ]
     },
     "execution_count": 34,
     "metadata": {},
     "output_type": "execute_result"
    }
   ],
   "source": [
    "l3"
   ]
  },
  {
   "cell_type": "code",
   "execution_count": null,
   "metadata": {},
   "outputs": [],
   "source": []
  }
 ],
 "metadata": {
  "kernelspec": {
   "display_name": "Python 3",
   "language": "python",
   "name": "python3"
  },
  "language_info": {
   "codemirror_mode": {
    "name": "ipython",
    "version": 3
   },
   "file_extension": ".py",
   "mimetype": "text/x-python",
   "name": "python",
   "nbconvert_exporter": "python",
   "pygments_lexer": "ipython3",
   "version": "3.6.7"
  }
 },
 "nbformat": 4,
 "nbformat_minor": 2
}
